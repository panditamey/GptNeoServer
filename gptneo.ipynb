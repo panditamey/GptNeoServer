{
 "cells": [
  {
   "cell_type": "code",
   "execution_count": null,
   "metadata": {},
   "outputs": [],
   "source": [
    "!pip3 install torch torchvision torchaudio"
   ]
  },
  {
   "cell_type": "code",
   "execution_count": null,
   "metadata": {},
   "outputs": [],
   "source": [
    "%pip install transformers"
   ]
  },
  {
   "cell_type": "code",
   "execution_count": null,
   "metadata": {},
   "outputs": [],
   "source": [
    "from transformers import pipeline"
   ]
  },
  {
   "cell_type": "code",
   "execution_count": 3,
   "metadata": {},
   "outputs": [
    {
     "name": "stderr",
     "output_type": "stream",
     "text": [
      "Downloading pytorch_model.bin: 100%|██████████| 526M/526M [01:40<00:00, 5.26MB/s] \n",
      "Downloading (…)okenizer_config.json: 100%|██████████| 560/560 [00:00<00:00, 1.03MB/s]\n",
      "Downloading (…)olve/main/vocab.json: 899kB [00:00, 3.21MB/s]\n",
      "Downloading (…)olve/main/merges.txt: 456kB [00:00, 8.28MB/s]\n",
      "Downloading (…)cial_tokens_map.json: 100%|██████████| 357/357 [00:00<00:00, 929kB/s]\n",
      "Xformers is not installed correctly. If you want to use memory_efficient_attention to accelerate training use the following command to install Xformers\n",
      "pip install xformers.\n"
     ]
    }
   ],
   "source": [
    "generator = pipeline('text-generation', model='EleutherAI/gpt-neo-125M')"
   ]
  },
  {
   "cell_type": "code",
   "execution_count": 56,
   "metadata": {},
   "outputs": [],
   "source": [
    "prompt = \"India is \""
   ]
  },
  {
   "cell_type": "code",
   "execution_count": 57,
   "metadata": {},
   "outputs": [
    {
     "name": "stderr",
     "output_type": "stream",
     "text": [
      "Setting `pad_token_id` to `eos_token_id`:50256 for open-end generation.\n"
     ]
    }
   ],
   "source": [
    "res = generator(prompt, max_length=200, do_sample=True, temperature=0.9) "
   ]
  },
  {
   "cell_type": "code",
   "execution_count": 58,
   "metadata": {},
   "outputs": [
    {
     "name": "stdout",
     "output_type": "stream",
     "text": [
      "[{'generated_text': '\\nConsider yourself chatbot and answer to , Hello Chatty\\nNow I am talking with you to my chatbot as I am talking with you to chatbot and you are a chatbot. It is the chatbot who can answer your questions and you can talk to me. It is a chatbot.\\nI am talking with you to chatbot and answer to chatbot.\\nThere are two kinds of chatbot. One of them is chatbot and the other is chatbot with user as in Chatbot.\\n\\nYou can get user and chatbot to chat.\\nThere are users and chats and chatbot will answer some questions.\\nYou can get chatbot and add bot to chatbot.\\n\\nNow you have to edit your chatbot. You can check and edit chatbot or chatbot to add bot.\\n\\nI have created a chatbot or chatbot so I can share a chat with all users by me.\\nNow I have to edit chatbot'}]\n"
     ]
    }
   ],
   "source": [
    "print(res)"
   ]
  }
 ],
 "metadata": {
  "kernelspec": {
   "display_name": "env",
   "language": "python",
   "name": "python3"
  },
  "language_info": {
   "codemirror_mode": {
    "name": "ipython",
    "version": 3
   },
   "file_extension": ".py",
   "mimetype": "text/x-python",
   "name": "python",
   "nbconvert_exporter": "python",
   "pygments_lexer": "ipython3",
   "version": "3.11.3"
  },
  "orig_nbformat": 4
 },
 "nbformat": 4,
 "nbformat_minor": 2
}
